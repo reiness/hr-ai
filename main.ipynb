{
 "cells": [
  {
   "cell_type": "markdown",
   "metadata": {},
   "source": [
    "# Testing Gemini"
   ]
  },
  {
   "cell_type": "code",
   "execution_count": 1,
   "metadata": {},
   "outputs": [
    {
     "name": "stdout",
     "output_type": "stream",
     "text": [
      "Note: you may need to restart the kernel to use updated packages.\n"
     ]
    },
    {
     "name": "stderr",
     "output_type": "stream",
     "text": [
      "ERROR: pip's dependency resolver does not currently take into account all the packages that are installed. This behaviour is the source of the following dependency conflicts.\n",
      "tensorflow-intel 2.14.0 requires wrapt<1.15,>=1.11.0, but you have wrapt 1.16.0 which is incompatible.\n"
     ]
    }
   ],
   "source": [
    "pip install -q -U google-generativeai"
   ]
  },
  {
   "cell_type": "code",
   "execution_count": 1,
   "metadata": {},
   "outputs": [],
   "source": [
    "import pathlib\n",
    "import textwrap\n",
    "\n",
    "import google.generativeai as genai\n",
    "\n",
    "from IPython.display import display\n",
    "from IPython.display import Markdown\n",
    "\n",
    "\n",
    "def to_markdown(text):\n",
    "  text = text.replace('•', '  *')\n",
    "  return Markdown(textwrap.indent(text, '> ', predicate=lambda _: True))"
   ]
  },
  {
   "cell_type": "code",
   "execution_count": 6,
   "metadata": {},
   "outputs": [],
   "source": [
    "genai.configure(api_key=key)   "
   ]
  },
  {
   "cell_type": "markdown",
   "metadata": {},
   "source": [
    "## List Models"
   ]
  },
  {
   "cell_type": "code",
   "execution_count": 7,
   "metadata": {},
   "outputs": [
    {
     "name": "stdout",
     "output_type": "stream",
     "text": [
      "models/gemini-1.0-pro\n",
      "models/gemini-1.0-pro-001\n",
      "models/gemini-1.0-pro-latest\n",
      "models/gemini-1.0-pro-vision-latest\n",
      "models/gemini-1.5-flash\n",
      "models/gemini-1.5-flash-001\n",
      "models/gemini-1.5-flash-latest\n",
      "models/gemini-1.5-pro\n",
      "models/gemini-1.5-pro-001\n",
      "models/gemini-1.5-pro-latest\n",
      "models/gemini-pro\n",
      "models/gemini-pro-vision\n"
     ]
    }
   ],
   "source": [
    "for m in genai.list_models():\n",
    "  if 'generateContent' in m.supported_generation_methods:\n",
    "    print(m.name)"
   ]
  },
  {
   "cell_type": "code",
   "execution_count": 8,
   "metadata": {},
   "outputs": [],
   "source": [
    "model = genai.GenerativeModel('gemini-1.5-flash')"
   ]
  },
  {
   "cell_type": "markdown",
   "metadata": {},
   "source": [
    "## Prompting"
   ]
  },
  {
   "cell_type": "code",
   "execution_count": 9,
   "metadata": {},
   "outputs": [],
   "source": [
    "cv1 = \"\"\"\"\n",
    "Curriculum Vitae\n",
    "\n",
    "Informasi Pribadi:\n",
    "\n",
    "Nama: Rehan Helwi\n",
    "Tempat, Tanggal Lahir: Jakarta, 10 Maret 1990\n",
    "Alamat: Jl. Sudirman No. 45, Jakarta Selatan\n",
    "Telepon: 0812-3456-7890\n",
    "Email: aditya.pratama@example.com\n",
    "Pendidikan:\n",
    "\n",
    "Universitas Indonesia - Sarjana Teknik Informatika (2010-2014)\n",
    "SMA Negeri 8 Jakarta (2007-2010)\n",
    "Pengalaman Kerja:\n",
    "\n",
    "PT. Teknologi Nusantara - Software Engineer (2016-sekarang)\n",
    "Mengembangkan aplikasi web dan mobile\n",
    "Bekerja dengan tim dalam proyek pengembangan sistem informasi\n",
    "PT. Solusi Digital - Junior Programmer (2014-2016)\n",
    "Membantu dalam pengembangan aplikasi internal perusahaan\n",
    "Menangani maintenance dan perbaikan bug\n",
    "Keahlian:\n",
    "\n",
    "Bahasa Pemrograman: Java, Python, JavaScript\n",
    "Database: MySQL, PostgreSQL\n",
    "Framework: Spring, Django, React\n",
    "Sertifikasi:\n",
    "\n",
    "Sertifikasi Java Programming (Oracle)\n",
    "Bahasa:\n",
    "\n",
    "Indonesia (Bahasa Ibu)\n",
    "Inggris (Lancar)\n",
    "\n",
    "\"\"\""
   ]
  },
  {
   "cell_type": "code",
   "execution_count": 10,
   "metadata": {},
   "outputs": [],
   "source": [
    "cv2 = \"\"\"\n",
    "Curriculum Vitae\n",
    "\n",
    "Informasi Pribadi:\n",
    "\n",
    "Nama: Diazsepur\n",
    "Tempat, Tanggal Lahir: Bandung, 25 Juli 1992\n",
    "Alamat: Jl. Merdeka No. 22, Bandung\n",
    "Telepon: 0812-9876-5432\n",
    "Email: siti.aminah@example.com\n",
    "Pendidikan:\n",
    "\n",
    "Universitas Padjadjaran - Sarjana Administrasi Bisnis (2011-2015)\n",
    "SMA Negeri 3 Bandung (2008-2011)\n",
    "Pengalaman Kerja:\n",
    "\n",
    "PT. Global Admin - Administrasi Kantor (2017-sekarang)\n",
    "Mengelola dokumen dan arsip perusahaan\n",
    "Menangani korespondensi dan komunikasi internal\n",
    "PT. Sukses Bersama - Staff Administrasi (2015-2017)\n",
    "Membantu dalam pengelolaan data kepegawaian\n",
    "Menyusun laporan keuangan bulanan\n",
    "Keahlian:\n",
    "\n",
    "Microsoft Office (Word, Excel, PowerPoint)\n",
    "Manajemen Arsip dan Dokumen\n",
    "Korespondensi Bisnis\n",
    "Sertifikasi:\n",
    "\n",
    "Sertifikasi Manajemen Administrasi (LSP)\n",
    "Bahasa:\n",
    "\n",
    "Indonesia (Bahasa Ibu)\n",
    "Inggris (Menengah)\n",
    "\n",
    "\"\"\""
   ]
  },
  {
   "cell_type": "code",
   "execution_count": 11,
   "metadata": {},
   "outputs": [],
   "source": [
    "cv3 = \"\"\"\n",
    "Curriculum Vitae\n",
    "\n",
    "Informasi Pribadi:\n",
    "\n",
    "Nama: Rimban\n",
    "Tempat, Tanggal Lahir: Surabaya, 15 Agustus 1988\n",
    "Alamat: Jl. Diponegoro No. 18, Surabaya\n",
    "Telepon: 0813-4567-8910\n",
    "Email: budi.santoso@example.com\n",
    "Pendidikan:\n",
    "\n",
    "Institut Teknologi Sepuluh Nopember (ITS) - Sarjana Desain Komunikasi Visual (2007-2011)\n",
    "SMA Negeri 1 Surabaya (2004-2007)\n",
    "Pengalaman Kerja:\n",
    "\n",
    "PT. Kreatif Desain - Graphic Designer (2013-sekarang)\n",
    "Mendesain materi promosi dan iklan\n",
    "Bekerja sama dengan tim pemasaran untuk kampanye visual\n",
    "Freelance - Desainer Grafis (2011-2013)\n",
    "Membuat desain logo dan branding untuk klien individu dan perusahaan kecil\n",
    "Keahlian:\n",
    "\n",
    "Adobe Photoshop, Illustrator, InDesign\n",
    "Desain UI/UX\n",
    "Fotografi dan Pengeditan Foto\n",
    "Sertifikasi:\n",
    "\n",
    "Sertifikasi Desain Grafis (Adobe)\n",
    "Bahasa:\n",
    "\n",
    "Indonesia (Bahasa Ibu)\n",
    "Inggris (Lancar)\n",
    "\"\"\""
   ]
  },
  {
   "cell_type": "code",
   "execution_count": 12,
   "metadata": {},
   "outputs": [],
   "source": [
    "json_format = \"\"\"\n",
    "Format JSON ini tidak pakem, tergantung berapa CV yang diproses. Satu CV adalah satu objek yang berbeda dan terdapat 1 objek inti yaitu comparison.\n",
    "\n",
    "Formatnya adalah sebagai berikut\n",
    "\n",
    "{\n",
    "  \"comparison\": {\n",
    "    \"aditya_pratama\": {\n",
    "      \"experience\": \"Stronger technical experience with focus on software development.\",\n",
    "      \"education\": \"Bachelor's degree in Computer Science.\",\n",
    "      \"skills\": \"Strong technical skills in programming languages, databases, and frameworks.\",\n",
    "      \"language\": \"Fluent in English.\",\n",
    "      \"overall\": \"Strong candidate for technical roles.\"\n",
    "    },\n",
    "    \"siti_aminah\": {\n",
    "      \"experience\": \"Strong administrative experience with focus on office management.\",\n",
    "      \"education\": \"Bachelor's degree in Business Administration.\",\n",
    "      \"skills\": \"Proficient in Microsoft Office and administration tasks.\",\n",
    "      \"language\": \"Intermediate English.\",\n",
    "      \"overall\": \"Strong candidate for administrative roles.\"\n",
    "    }\n",
    "  },\n",
    "  \"aditya_pratama\": {\n",
    "    \"personal_information\": {\n",
    "      \"name\": \"Aditya Pratama\",\n",
    "      \"birth_place\": \"Jakarta\",\n",
    "      \"birth_date\": \"10 Maret 1990\",\n",
    "      \"address\": \"Jl. Sudirman No. 45, Jakarta Selatan\",\n",
    "      \"phone\": \"0812-3456-7890\",\n",
    "      \"email\": \"aditya.pratama@example.com\"\n",
    "    },\n",
    "    \"education\": [\n",
    "      {\n",
    "        \"institution\": \"Universitas Indonesia\",\n",
    "        \"degree\": \"Sarjana Teknik Informatika\",\n",
    "        \"year\": \"2010-2014\"\n",
    "      },\n",
    "      {\n",
    "        \"institution\": \"SMA Negeri 8 Jakarta\",\n",
    "        \"year\": \"2007-2010\"\n",
    "      }\n",
    "    ],\n",
    "    \"experience\": [\n",
    "      {\n",
    "        \"company\": \"PT. Teknologi Nusantara\",\n",
    "        \"position\": \"Software Engineer\",\n",
    "        \"year\": \"2016-sekarang\",\n",
    "        \"description\": \"Mengembangkan aplikasi web dan mobile, bekerja dengan tim dalam proyek pengembangan sistem informasi\"\n",
    "      },\n",
    "      {\n",
    "        \"company\": \"PT. Solusi Digital\",\n",
    "        \"position\": \"Junior Programmer\",\n",
    "        \"year\": \"2014-2016\",\n",
    "        \"description\": \"Membantu dalam pengembangan aplikasi internal perusahaan, menangani maintenance dan perbaikan bug\"\n",
    "      }\n",
    "    ],\n",
    "    \"skills\": {\n",
    "      \"programming_languages\": \"Java, Python, JavaScript\",\n",
    "      \"database\": \"MySQL, PostgreSQL\",\n",
    "      \"framework\": \"Spring, Django, React\"\n",
    "    },\n",
    "    \"certification\": \"Sertifikasi Java Programming (Oracle)\",\n",
    "    \"language\": {\n",
    "      \"indonesia\": \"Bahasa Ibu\",\n",
    "      \"english\": \"Lancar\"\n",
    "    }\n",
    "  },\n",
    "  \"siti_aminah\": {\n",
    "    \"personal_information\": {\n",
    "      \"name\": \"Siti Aminah\",\n",
    "      \"birth_place\": \"Bandung\",\n",
    "      \"birth_date\": \"25 Juli 1992\",\n",
    "      \"address\": \"Jl. Merdeka No. 22, Bandung\",\n",
    "      \"phone\": \"0812-9876-5432\",\n",
    "      \"email\": \"siti.aminah@example.com\"\n",
    "    },\n",
    "    \"education\": [\n",
    "      {\n",
    "        \"institution\": \"Universitas Padjadjaran\",\n",
    "        \"degree\": \"Sarjana Administrasi Bisnis\",\n",
    "        \"year\": \"2011-2015\"\n",
    "      },\n",
    "      {\n",
    "        \"institution\": \"SMA Negeri 3 Bandung\",\n",
    "        \"year\": \"2008-2011\"\n",
    "      }\n",
    "    ],\n",
    "    \"experience\": [\n",
    "      {\n",
    "        \"company\": \"PT. Global Admin\",\n",
    "        \"position\": \"Administrasi Kantor\",\n",
    "        \"year\": \"2017-sekarang\",\n",
    "        \"description\": \"Mengelola dokumen dan arsip perusahaan, menangani korespondensi dan komunikasi internal\"\n",
    "      },\n",
    "      {\n",
    "        \"company\": \"PT. Sukses Bersama\",\n",
    "        \"position\": \"Staff Administrasi\",\n",
    "        \"year\": \"2015-2017\",\n",
    "        \"description\": \"Membantu dalam pengelolaan data kepegawaian, menyusun laporan keuangan bulanan\"\n",
    "      }\n",
    "    ],\n",
    "    \"skills\": {\n",
    "      \"microsoft_office\": \"Word, Excel, PowerPoint\",\n",
    "      \"administration\": \"Manajemen Arsip dan Dokumen, Korespondensi Bisnis\"\n",
    "    },\n",
    "    \"certification\": \"Sertifikasi Manajemen Administrasi (LSP)\",\n",
    "    \"language\": {\n",
    "      \"indonesia\": \"Bahasa Ibu\",\n",
    "      \"english\": \"Menengah\"\n",
    "    }\n",
    "  }\n",
    "}\n",
    "\n",
    "\"\"\""
   ]
  },
  {
   "cell_type": "code",
   "execution_count": 13,
   "metadata": {},
   "outputs": [],
   "source": [
    "base_prompt = f\"\"\"\n",
    "Ringkaslah kumpulan CV berikut ini serta komparasikan mereka.\n",
    "Bentuklah dalam sebuah JSON agar mudah diterima oleh website. \n",
    "CV pertama:{cv1}, CV kedua {cv2}, CV ketiga {cv3}. \n",
    "Format JSON nya adalah sebagai berikut: {json_format} .\n",
    "Jika ada kasus data tidak ada, maka buat nilai dalam JSON tersebut Unknown.\n",
    "JANGAN MENAMPILKAN HASIL LAIN SELAIN JSON!\n",
    "\"\"\""
   ]
  },
  {
   "cell_type": "markdown",
   "metadata": {},
   "source": [
    "## Inference"
   ]
  },
  {
   "cell_type": "code",
   "execution_count": 14,
   "metadata": {},
   "outputs": [],
   "source": [
    "# rando = \"Berapa nilai X saya tadi?\""
   ]
  },
  {
   "cell_type": "code",
   "execution_count": 15,
   "metadata": {},
   "outputs": [
    {
     "name": "stdout",
     "output_type": "stream",
     "text": [
      "CPU times: total: 0 ns\n",
      "Wall time: 18.6 s\n"
     ]
    }
   ],
   "source": [
    "%%time\n",
    "response = model.generate_content(base_prompt)\n",
    "# to_markdown(response.text)"
   ]
  }
 ],
 "metadata": {
  "kernelspec": {
   "display_name": "Python 3",
   "language": "python",
   "name": "python3"
  },
  "language_info": {
   "codemirror_mode": {
    "name": "ipython",
    "version": 3
   },
   "file_extension": ".py",
   "mimetype": "text/x-python",
   "name": "python",
   "nbconvert_exporter": "python",
   "pygments_lexer": "ipython3",
   "version": "3.11.4"
  }
 },
 "nbformat": 4,
 "nbformat_minor": 2
}
