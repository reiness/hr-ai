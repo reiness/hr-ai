{
 "cells": [
  {
   "cell_type": "code",
   "execution_count": null,
   "metadata": {},
   "outputs": [],
   "source": [
    "https://blog.apilayer.com/build-your-own-resume-parser-using-python-and-nlp/"
   ]
  },
  {
   "cell_type": "markdown",
   "metadata": {},
   "source": [
    "# From PDF\n"
   ]
  },
  {
   "cell_type": "code",
   "execution_count": 1,
   "metadata": {},
   "outputs": [
    {
     "name": "stdout",
     "output_type": "stream",
     "text": [
      "FIRST NAME LAST NAME\n",
      "(XXX) XXX-XXXX | ProfessionalEmail@gmail.com | linkedin.com/in | City, State\n",
      "\n",
      "EDUCATION\n",
      "Degree, Major (e.g Bachelor of Science, Communication Studies)\n",
      "Name of University, Institution\n",
      "Minor: XXXXX    GPA x.x/4.0 (optional but recommend including if over a 3.0, can be Overall GPA or Major GPA)\n",
      "\n",
      "Graduating Month Year\n",
      "City, State\n",
      "\n",
      "If you have a Masters Degree then repeat above format for undergraduate with your highest level of education appearing first\n",
      "Do not use bullet points in the education section and do not include high school information\n",
      "\n",
      "WORK EXPERIENCE (could also be titled Relevant Experience or Related Experience)\n",
      "Position Title\n",
      "Organization/Company Name\n",
      "● Write your main highlighted accomplishments.\n",
      "● Think about how your task/project helped the company do better and how you added value to the company.\n",
      "● Follow the format “Performed X by doing Y resulting in Z”, quantify with numbers, percentages, other data where you can\n",
      "● Start with strong action verbs and avoid using responsible, helped, researched or assisted (review our Guide to Using\n",
      "\n",
      "Roles are in reverse chronological order with most recent first Month Year - Month Year\n",
      "City, State\n",
      "\n",
      "Action Verbs).\n",
      "\n",
      "Position Title\n",
      "Organization Name\n",
      "● Highlight different skills\n",
      "● Show overall benefit to the organization so that future employers know how you could add value to their organization\n",
      "● You resume should demonstrate competencies: Critical thinking, leadership, teamwork, communication, career\n",
      "\n",
      "Month Year - Month Year\n",
      "City, State\n",
      "\n",
      "management etc.\n",
      "\n",
      "● Don’t forget to include essential (soft) skills and technical (hard) skills where relevant.\n",
      "\n",
      "Position Title\n",
      "Organization Name\n",
      "● Roles with more relevant experiences to the job you are applying for should have more bullet points (no more than 5)\n",
      "● Roles with less relevant experiences should have less bullet points especially if you’re running out of space\n",
      "● E.g.: For working as a lifeguard: “Supervised over 100 kids during the summer achieving 0 incidents and 97% open rate\n",
      "\n",
      "Month Year - Month Year\n",
      "City, State\n",
      "\n",
      "for the local community pool, during business hours.”\n",
      "\n",
      "SECTION HEADER\n",
      "Title\n",
      "Organization Name, Institution Name\n",
      "● May be activities related to a specific class, campus organization or volunteer experience - choose the related section title\n",
      "● Show hard skills of projects you have worked, consider focusing on leadership, teamwork and management skills.\n",
      "● If you don’t have space, bullet points are not necessary here just put the org name and title and dates\n",
      "\n",
      "Month Year - Month Year\n",
      "City, State\n",
      "\n",
      "CERTIFICATIONS\n",
      "Name of certification, Issuing Company or Organization\n",
      "\n",
      "E.g.: CPR Certification, American Red Cross\n",
      "\n",
      "Google UX Design Certificate, Coursera\n",
      "\n",
      "time period for certification (e.g. expiration) or when issued\n",
      "Expires Month Year\n",
      "Issued Month Year\n",
      "\n",
      "TECHNICAL SKILLS\n",
      "● Microsoft Word\n",
      "● Microsoft Excel\n",
      "● Microsoft Powerpoint\n",
      "\n",
      "● Project Management\n",
      "● Hubspot\n",
      "● Smartsheet\n",
      "\n",
      "● Email marketing\n",
      "● Asana\n",
      "● Java\n",
      "\n",
      "● This section should only include technical skills. Think about how you can highlight other skills through your bullet points\n",
      "● You could also include additional sections (e.g.: Awards and Honors, Project Experience, Academic Experience,\n",
      "\n",
      "Internship Experience, Relevant Coursework, Volunteer Experience, University Involvement, etc.) if that better fits your\n",
      "experiences instead of Certifications, Technical Skills, etc.\n",
      "\n",
      "\f\n"
     ]
    }
   ],
   "source": [
    "from pdfminer.high_level import extract_text\n",
    " \n",
    " \n",
    "def extract_text_from_pdf(pdf_path):\n",
    "    return extract_text(pdf_path)\n",
    " \n",
    " \n",
    "if __name__ == '__main__':\n",
    "    print(extract_text_from_pdf('atssampleresume.pdf'))  "
   ]
  },
  {
   "cell_type": "markdown",
   "metadata": {},
   "source": [
    "# NER for names"
   ]
  },
  {
   "cell_type": "code",
   "execution_count": null,
   "metadata": {},
   "outputs": [],
   "source": [
    "import nltk\n",
    " \n",
    "nltk.download('punkt')\n",
    "nltk.download('averaged_perceptron_tagger')\n",
    "nltk.download('maxent_ne_chunker')\n",
    "nltk.download('words')"
   ]
  },
  {
   "cell_type": "code",
   "execution_count": 9,
   "metadata": {},
   "outputs": [
    {
     "name": "stdout",
     "output_type": "stream",
     "text": [
      "Institution Minor\n"
     ]
    }
   ],
   "source": [
    "def extract_names(txt):\n",
    "    person_names = []\n",
    " \n",
    "    for sent in nltk.sent_tokenize(txt):\n",
    "        for chunk in nltk.ne_chunk(nltk.pos_tag(nltk.word_tokenize(sent))):\n",
    "            if hasattr(chunk, 'label') and chunk.label() == 'PERSON':\n",
    "                person_names.append(\n",
    "                    ' '.join(chunk_leave[0] for chunk_leave in chunk.leaves())\n",
    "                )\n",
    " \n",
    "    return person_names\n",
    " \n",
    " \n",
    "if __name__ == '__main__':\n",
    "    text = extract_text_from_pdf('atssampleresume.pdf')\n",
    "    names = extract_names(text)\n",
    " \n",
    "    if names:\n",
    "        print(names[0])"
   ]
  },
  {
   "cell_type": "markdown",
   "metadata": {},
   "source": [
    "# Extracting Phones"
   ]
  },
  {
   "cell_type": "code",
   "execution_count": 11,
   "metadata": {},
   "outputs": [
    {
     "name": "stdout",
     "output_type": "stream",
     "text": [
      "None\n"
     ]
    }
   ],
   "source": [
    "import re\n",
    "import subprocess  \n",
    " \n",
    "PHONE_REG = re.compile(r'[\\+\\(]?[1-9][0-9 .\\-\\(\\)]{8,}[0-9]')\n",
    " \n",
    " \n",
    "def doc_to_text_catdoc(file_path):\n",
    "    try:\n",
    "        process = subprocess.Popen(  # noqa: S607,S603\n",
    "            ['catdoc', '-w', file_path],\n",
    "            stdout=subprocess.PIPE,\n",
    "            stderr=subprocess.PIPE,\n",
    "            universal_newlines=True,\n",
    "        )\n",
    "    except (\n",
    "        FileNotFoundError,\n",
    "        ValueError,\n",
    "        subprocess.TimeoutExpired,\n",
    "        subprocess.SubprocessError,\n",
    "    ) as err:\n",
    "        return (None, str(err))\n",
    "    else:\n",
    "        stdout, stderr = process.communicate()\n",
    " \n",
    "    return (stdout.strip(), stderr.strip())\n",
    " \n",
    " \n",
    "def extract_phone_number(resume_text):\n",
    "    phone = re.findall(PHONE_REG, resume_text)\n",
    " \n",
    "    if phone:\n",
    "        number = ''.join(phone[0])\n",
    " \n",
    "        if resume_text.find(number) >= 0 and len(number) < 16:\n",
    "            return number\n",
    "    return None\n",
    " \n",
    " \n",
    "if __name__ == '__main__':\n",
    "    # text = doc_to_text_catdoc(text)\n",
    "    phone_number = extract_phone_number(text)\n",
    " \n",
    "    print(phone_number)"
   ]
  }
 ],
 "metadata": {
  "kernelspec": {
   "display_name": "Python 3",
   "language": "python",
   "name": "python3"
  },
  "language_info": {
   "codemirror_mode": {
    "name": "ipython",
    "version": 3
   },
   "file_extension": ".py",
   "mimetype": "text/x-python",
   "name": "python",
   "nbconvert_exporter": "python",
   "pygments_lexer": "ipython3",
   "version": "3.11.4"
  }
 },
 "nbformat": 4,
 "nbformat_minor": 2
}
